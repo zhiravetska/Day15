{
 "cells": [
  {
   "cell_type": "code",
   "execution_count": null,
   "metadata": {},
   "outputs": [],
   "source": [
    "# TODO\n",
    "# Create a new Jupyter Notebook\n",
    "# top cell should be a markdown cell with headline and your name\n",
    "# optional insert a hotlink to some nice picture\n",
    "\n",
    "# rest will be code cells\n",
    "# create a new code cell and write a function that prints \"Hello Notebooks!\"\n",
    "# create a code cell for all imports that you need\n",
    "# create a code cell for all variables that you need\n",
    "# create a code cell for all functions that you need - optional\n",
    "# create a code cell for all classes that you need - optional\n",
    "# above could also be a single cell with all imports, variables, functions and classes\n",
    "\n",
    "# have a cell that runs your previous homework from day 14\n",
    "# ideally you would see a graph in the notebook\n",
    "\n",
    "# if you do not have last homework\n",
    "# enter any other homework from previous days\n",
    "# theoretically you could also enter everything in a single cell\n",
    "# but it is better to have a cell for each sub-task"
   ]
  },
  {
   "cell_type": "markdown",
   "metadata": {},
   "source": [
    "**Jupyter __ Anastasia**\n",
    "\n",
    "<img src = \"https://media.gettyimages.com/photos/closeup-of-harvest-mouse-picture-id1182417934?s=612x612\">"
   ]
  },
  {
   "cell_type": "code",
   "execution_count": 1,
   "metadata": {},
   "outputs": [
    {
     "name": "stdout",
     "output_type": "stream",
     "text": [
      "Hello Notebooks!\n"
     ]
    }
   ],
   "source": [
    "print (\"Hello Notebooks!\")"
   ]
  },
  {
   "cell_type": "code",
   "execution_count": 5,
   "metadata": {},
   "outputs": [],
   "source": [
    "import matplotlib.pyplot\n",
    "import random"
   ]
  },
  {
   "cell_type": "code",
   "execution_count": 9,
   "metadata": {},
   "outputs": [
    {
     "name": "stdout",
     "output_type": "stream",
     "text": [
      "Anastasia, 7, cat and dog\n"
     ]
    }
   ],
   "source": [
    "my_name = \"Anastasia\"\n",
    "my_number = 7\n",
    "my_pet = \"cat and dog\"\n",
    "print (f\"{my_name}, {my_number}, {my_pet}\")"
   ]
  },
  {
   "cell_type": "code",
   "execution_count": 15,
   "metadata": {},
   "outputs": [
    {
     "name": "stdout",
     "output_type": "stream",
     "text": [
      "[[4, 1, 5, 1], [3, 2, 5, 5], [6, 4, 6, 3], [2, 1, 1, 1], [6, 3, 2, 1], [3, 1, 6, 1], [5, 3, 1, 5], [2, 2, 5, 4], [1, 2, 5, 4], [3, 5, 5, 1], [5, 5, 2, 2], [4, 1, 1, 6], [1, 3, 3, 4], [2, 1, 3, 6], [1, 5, 2, 6], [1, 5, 5, 4], [2, 1, 6, 4], [2, 3, 5, 3], [2, 6, 6, 6], [6, 3, 5, 5], [4, 1, 4, 2], [4, 2, 2, 2], [2, 3, 3, 2], [1, 2, 1, 4], [1, 2, 3, 2], [2, 2, 6, 2], [2, 4, 5, 6], [5, 5, 3, 1], [4, 4, 3, 1], [2, 1, 2, 4], [3, 4, 2, 1], [5, 5, 3, 2], [3, 6, 1, 3], [5, 3, 4, 3], [6, 2, 3, 3], [1, 5, 3, 5], [3, 4, 1, 6], [4, 5, 2, 1], [6, 3, 3, 2], [4, 4, 5, 6], [2, 5, 5, 5], [1, 3, 2, 1], [4, 5, 6, 4], [5, 5, 1, 4], [1, 6, 6, 6], [4, 6, 6, 3], [6, 4, 1, 3], [5, 3, 2, 6], [6, 3, 6, 4], [6, 3, 5, 2], [3, 3, 6, 4], [5, 6, 5, 6], [6, 4, 2, 3], [4, 3, 1, 1], [3, 6, 3, 3], [6, 6, 3, 1], [1, 3, 3, 5], [6, 4, 3, 4], [3, 6, 4, 6], [3, 6, 1, 6], [2, 6, 3, 3], [3, 5, 1, 6], [6, 5, 4, 6], [1, 4, 4, 2], [4, 1, 3, 6], [3, 1, 3, 3], [2, 5, 5, 1], [2, 3, 4, 4], [2, 2, 2, 1], [4, 5, 5, 4], [2, 1, 1, 1], [6, 6, 1, 5], [3, 2, 1, 1], [2, 6, 4, 1], [5, 5, 5, 5], [3, 4, 3, 5], [3, 1, 5, 4], [6, 1, 4, 3], [6, 6, 4, 1], [3, 1, 2, 1], [3, 2, 6, 3], [3, 5, 5, 4], [5, 4, 6, 3], [1, 6, 1, 6], [4, 5, 6, 4], [3, 4, 3, 3], [6, 5, 1, 5], [6, 2, 3, 4], [3, 5, 2, 5], [1, 6, 4, 3], [5, 5, 3, 6], [4, 4, 3, 2], [1, 1, 4, 4], [1, 5, 6, 1], [1, 3, 1, 2], [1, 1, 3, 2], [1, 1, 6, 6], [3, 3, 3, 2], [1, 5, 3, 6], [5, 6, 5, 5]]\n"
     ]
    },
    {
     "data": {
      "text/plain": [
       "[[4, 1, 5, 1],\n",
       " [3, 2, 5, 5],\n",
       " [6, 4, 6, 3],\n",
       " [2, 1, 1, 1],\n",
       " [6, 3, 2, 1],\n",
       " [3, 1, 6, 1],\n",
       " [5, 3, 1, 5],\n",
       " [2, 2, 5, 4],\n",
       " [1, 2, 5, 4],\n",
       " [3, 5, 5, 1],\n",
       " [5, 5, 2, 2],\n",
       " [4, 1, 1, 6],\n",
       " [1, 3, 3, 4],\n",
       " [2, 1, 3, 6],\n",
       " [1, 5, 2, 6],\n",
       " [1, 5, 5, 4],\n",
       " [2, 1, 6, 4],\n",
       " [2, 3, 5, 3],\n",
       " [2, 6, 6, 6],\n",
       " [6, 3, 5, 5],\n",
       " [4, 1, 4, 2],\n",
       " [4, 2, 2, 2],\n",
       " [2, 3, 3, 2],\n",
       " [1, 2, 1, 4],\n",
       " [1, 2, 3, 2],\n",
       " [2, 2, 6, 2],\n",
       " [2, 4, 5, 6],\n",
       " [5, 5, 3, 1],\n",
       " [4, 4, 3, 1],\n",
       " [2, 1, 2, 4],\n",
       " [3, 4, 2, 1],\n",
       " [5, 5, 3, 2],\n",
       " [3, 6, 1, 3],\n",
       " [5, 3, 4, 3],\n",
       " [6, 2, 3, 3],\n",
       " [1, 5, 3, 5],\n",
       " [3, 4, 1, 6],\n",
       " [4, 5, 2, 1],\n",
       " [6, 3, 3, 2],\n",
       " [4, 4, 5, 6],\n",
       " [2, 5, 5, 5],\n",
       " [1, 3, 2, 1],\n",
       " [4, 5, 6, 4],\n",
       " [5, 5, 1, 4],\n",
       " [1, 6, 6, 6],\n",
       " [4, 6, 6, 3],\n",
       " [6, 4, 1, 3],\n",
       " [5, 3, 2, 6],\n",
       " [6, 3, 6, 4],\n",
       " [6, 3, 5, 2],\n",
       " [3, 3, 6, 4],\n",
       " [5, 6, 5, 6],\n",
       " [6, 4, 2, 3],\n",
       " [4, 3, 1, 1],\n",
       " [3, 6, 3, 3],\n",
       " [6, 6, 3, 1],\n",
       " [1, 3, 3, 5],\n",
       " [6, 4, 3, 4],\n",
       " [3, 6, 4, 6],\n",
       " [3, 6, 1, 6],\n",
       " [2, 6, 3, 3],\n",
       " [3, 5, 1, 6],\n",
       " [6, 5, 4, 6],\n",
       " [1, 4, 4, 2],\n",
       " [4, 1, 3, 6],\n",
       " [3, 1, 3, 3],\n",
       " [2, 5, 5, 1],\n",
       " [2, 3, 4, 4],\n",
       " [2, 2, 2, 1],\n",
       " [4, 5, 5, 4],\n",
       " [2, 1, 1, 1],\n",
       " [6, 6, 1, 5],\n",
       " [3, 2, 1, 1],\n",
       " [2, 6, 4, 1],\n",
       " [5, 5, 5, 5],\n",
       " [3, 4, 3, 5],\n",
       " [3, 1, 5, 4],\n",
       " [6, 1, 4, 3],\n",
       " [6, 6, 4, 1],\n",
       " [3, 1, 2, 1],\n",
       " [3, 2, 6, 3],\n",
       " [3, 5, 5, 4],\n",
       " [5, 4, 6, 3],\n",
       " [1, 6, 1, 6],\n",
       " [4, 5, 6, 4],\n",
       " [3, 4, 3, 3],\n",
       " [6, 5, 1, 5],\n",
       " [6, 2, 3, 4],\n",
       " [3, 5, 2, 5],\n",
       " [1, 6, 4, 3],\n",
       " [5, 5, 3, 6],\n",
       " [4, 4, 3, 2],\n",
       " [1, 1, 4, 4],\n",
       " [1, 5, 6, 1],\n",
       " [1, 3, 1, 2],\n",
       " [1, 1, 3, 2],\n",
       " [1, 1, 6, 6],\n",
       " [3, 3, 3, 2],\n",
       " [1, 5, 3, 6],\n",
       " [5, 6, 5, 5]]"
      ]
     },
     "execution_count": 15,
     "metadata": {},
     "output_type": "execute_result"
    }
   ],
   "source": [
    "\n",
    "def dice_throw(dice, throw):\n",
    "\n",
    "    throw_list = []\n",
    "    a = 0\n",
    "    # i = 0\n",
    "    for i in range(throw):\n",
    "        dice_list = []\n",
    "        for a in range(dice):\n",
    "\n",
    "            if a <= dice:\n",
    "                number = random.randint(1, 6)\n",
    "                dice_list.append(number)\n",
    "                a += 1\n",
    "            # i += 1\n",
    "        throw_list.append(dice_list)\n",
    "\n",
    "    print(throw_list)\n",
    "    return throw_list\n",
    "\n",
    "\n",
    "dice_throw(4, 100)"
   ]
  }
 ],
 "metadata": {
  "kernelspec": {
   "display_name": "Python 3.10.7 64-bit",
   "language": "python",
   "name": "python3"
  },
  "language_info": {
   "codemirror_mode": {
    "name": "ipython",
    "version": 3
   },
   "file_extension": ".py",
   "mimetype": "text/x-python",
   "name": "python",
   "nbconvert_exporter": "python",
   "pygments_lexer": "ipython3",
   "version": "3.10.7"
  },
  "orig_nbformat": 4,
  "vscode": {
   "interpreter": {
    "hash": "3a67a583c77752d5e1af73125661a1aa0cf1349e180e510903c2c81315cf6006"
   }
  }
 },
 "nbformat": 4,
 "nbformat_minor": 2
}
